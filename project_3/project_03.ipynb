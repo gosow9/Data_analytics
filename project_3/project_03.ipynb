{
  "cells": [
    {
      "cell_type": "code",
      "execution_count": 38,
      "metadata": {},
      "outputs": [
        {
          "name": "stdout",
          "output_type": "stream",
          "text": [
            "Collecting numdifftools\n",
            "  Downloading numdifftools-0.9.41-py2.py3-none-any.whl (100 kB)\n",
            "     -------------------------------------- 100.2/100.2 kB 2.9 MB/s eta 0:00:00\n",
            "Requirement already satisfied: scipy>=0.8 in c:\\users\\cedric\\anaconda3\\envs\\data_ana\\lib\\site-packages (from numdifftools) (1.10.1)\n",
            "Requirement already satisfied: numpy>=1.9 in c:\\users\\cedric\\anaconda3\\envs\\data_ana\\lib\\site-packages (from numdifftools) (1.24.2)\n",
            "Installing collected packages: numdifftools\n",
            "Successfully installed numdifftools-0.9.41\n"
          ]
        }
      ],
      "source": [
        "!pip install numdifftools"
      ]
    },
    {
      "cell_type": "code",
      "execution_count": 39,
      "metadata": {
        "id": "cFwDmSN3-L3s"
      },
      "outputs": [],
      "source": [
        "import numpy as np\n",
        "import matplotlib.pyplot as plt\n",
        "import timeit\n",
        "from typing import Callable, Union\n",
        "\n",
        "from scipy.optimize import minimize\n",
        "import numdifftools as ndt"
      ]
    },
    {
      "cell_type": "code",
      "execution_count": 3,
      "metadata": {
        "id": "6SwT09W2F9F3"
      },
      "outputs": [],
      "source": [
        "data = np.loadtxt(\"dec_lengths.txt\")\n",
        "data = np.sort(data)"
      ]
    },
    {
      "cell_type": "code",
      "execution_count": 66,
      "metadata": {
        "id": "G0zUHPkLM1Cn"
      },
      "outputs": [],
      "source": [
        "def pdf(y2: float, params) -> Union[float, np.ndarray]:\n",
        "  y1, data = params\n",
        "  y1 = 1/y1\n",
        "  y2 = 1/y2\n",
        "  p1 = y1*np.exp(-y1*data)\n",
        "  p2 = y2*np.exp(-y2*data)\n",
        "  return 0.84*p1 + 0.16*p2"
      ]
    },
    {
      "cell_type": "code",
      "execution_count": 76,
      "metadata": {},
      "outputs": [],
      "source": [
        "def mixed_exponential_pdf(y2_inverse: float, params) -> Union[float, np.ndarray]:\n",
        "    \"\"\"\n",
        "    Calculate the probability density function (PDF) for a mixture of two exponential distributions.\n",
        "    \n",
        "    Parameters\n",
        "    ----------\n",
        "    y2_inverse : float\n",
        "        The inverse of the second exponential distribution parameter (1 / lambda_2).\n",
        "    \n",
        "    params : tuple\n",
        "        A tuple containing the inverse of the first exponential distribution parameter (1 / lambda_1) and the data points.\n",
        "    \n",
        "    Returns\n",
        "    -------\n",
        "    Union[float, np.ndarray]\n",
        "        The PDF values for the given data points based on the mixture of two exponential distributions.\n",
        "    \"\"\"\n",
        "    y1_inverse, data = params\n",
        "    y1 = 1/y1_inverse\n",
        "    y2 = 1/y2_inverse\n",
        "    p1 = y1 * np.exp(-y1 * data)\n",
        "    p2 = y2 * np.exp(-y2 * data)\n",
        "    \n",
        "    return 0.84 * p1 + 0.16 * p2"
      ]
    },
    {
      "cell_type": "code",
      "execution_count": 77,
      "metadata": {
        "colab": {
          "base_uri": "https://localhost:8080/"
        },
        "id": "php9KBn4Ln59",
        "outputId": "bd073180-2eda-4fe7-cc03-62e09fdbf3f8"
      },
      "outputs": [
        {
          "name": "stdout",
          "output_type": "stream",
          "text": [
            "937254.9089397528\n",
            "937462.0430694247\n"
          ]
        }
      ],
      "source": [
        "p = (4188.0, data)\n",
        "print(-np.sum(np.log(mixed_exponential_pdf(0.1, p))))\n",
        "print(-np.sum(np.log(mixed_exponential_pdf(0.01, p))))"
      ]
    },
    {
      "cell_type": "code",
      "execution_count": 78,
      "metadata": {
        "colab": {
          "base_uri": "https://localhost:8080/"
        },
        "id": "RVEtUWd9I0B7",
        "outputId": "6ec809ff-b2db-4899-a8f1-0e2fa74fc8fb"
      },
      "outputs": [
        {
          "data": {
            "text/plain": [
              "937254.9089397528"
            ]
          },
          "execution_count": 78,
          "metadata": {},
          "output_type": "execute_result"
        }
      ],
      "source": [
        "def neg_log_likelihood_gauss(y2, params) -> float:\n",
        "    return -np.sum(np.log(mixed_exponential_pdf(y2, params)))\n",
        "\n",
        "bnd = (0, None)\n",
        "p = [4188.0, data]\n",
        "neg_log_likelihood_gauss(0.1, p)"
      ]
    },
    {
      "cell_type": "code",
      "execution_count": 26,
      "metadata": {},
      "outputs": [
        {
          "data": {
            "text/plain": [
              "([0.0002387774594078319,\n",
              "  array([6.56179931e-02, 7.14683653e-02, 7.37256079e-02, ...,\n",
              "         4.05635135e+04, 4.14334330e+04, 4.31568658e+04])],)"
            ]
          },
          "execution_count": 26,
          "metadata": {},
          "output_type": "execute_result"
        }
      ],
      "source": [
        "if not isinstance(p, tuple):\n",
        "        p = (p,)\n",
        "p"
      ]
    },
    {
      "cell_type": "code",
      "execution_count": 79,
      "metadata": {},
      "outputs": [
        {
          "name": "stdout",
          "output_type": "stream",
          "text": [
            "[0.00177838]\n",
            " message: Optimization terminated successfully.\n",
            " success: True\n",
            "  status: 0\n",
            "     fun: 916722.0338176396\n",
            "       x: [ 5.623e+02]\n",
            "     nit: 2\n",
            "   direc: [[-3.605e+00]]\n",
            "    nfev: 42\n",
            "4188.0\n"
          ]
        }
      ],
      "source": [
        "res_neg_log = minimize(neg_log_likelihood_gauss,method='Powell', x0=(0.1),bounds=(bnd,), args=p)\n",
        "print(1/res_neg_log.x)\n",
        "print(res_neg_log)\n",
        "print(p[0])\n"
      ]
    },
    {
      "cell_type": "code",
      "execution_count": 75,
      "metadata": {},
      "outputs": [
        {
          "name": "stdout",
          "output_type": "stream",
          "text": [
            "4188.0\n",
            "[[0.01011085]]\n",
            "Parameter uncertainties: [9.94503212]\n",
            "[1.76860169]\n"
          ]
        }
      ],
      "source": [
        "hessian_func = ndt.Hessian(neg_log_likelihood_gauss)\n",
        "hessian_matrix = hessian_func(res_neg_log.x, p)\n",
        "print(p[0])\n",
        "print(hessian_matrix)\n",
        "inv_hessian = np.linalg.inv(hessian_matrix)\n",
        "uncertainties = np.sqrt(np.diag(inv_hessian))\n",
        "\n",
        "print(\"Parameter uncertainties:\", uncertainties)\n",
        "print(uncertainties/res_neg_log.x*100)"
      ]
    },
    {
      "cell_type": "code",
      "execution_count": 35,
      "metadata": {
        "colab": {
          "base_uri": "https://localhost:8080/",
          "height": 430
        },
        "id": "LZYiSBMpNGaA",
        "outputId": "a1bc7efc-0ea6-4b58-cce4-39875dd8489d"
      },
      "outputs": [
        {
          "data": {
            "image/png": "[encoded data removed]",
            "text/plain": [
              "<Figure size 640x480 with 1 Axes>"
            ]
          },
          "metadata": {},
          "output_type": "display_data"
        }
      ],
      "source": [
        "plt.plot(data,pdf(res_neg_log.x, p[0]))\n",
        "plt.plot(data,pdf(mu_kaons, p[0]))\n",
        "plt.hist(data,bins=200, density=True)\n",
        "plt.show()\n"
      ]
    },
    {
      "cell_type": "markdown",
      "metadata": {},
      "source": []
    },
    {
      "cell_type": "markdown",
      "metadata": {
        "id": "aO9cO-_hQkN-"
      },
      "source": [
        "## Calculating the $\\mu_{kaons}$ from $\\mu_{total}$ and $\\mu_{pions}$\n",
        "We have the following means\n",
        "\\begin{equation}\n",
        "\\mu_{kaons}\\frac{1}{n_{kaons}}\\sum_i x_i \\qquad \\mu_{pions}\\frac{1}{n_{pions}}\\sum_i x_i, \\qquad \\mu_{total}=\\frac{1}{n_{pions}+n_{kaons}}\\sum_i x_i\n",
        "\\end{equation}\n",
        "\n",
        "\n",
        "Given that we already know $\\mu_{pion}$, $\\mu_{total}$ and the ration f $n_{pions}$ and $n_{kaons}$ we get \n",
        " \n",
        "\n",
        "\\begin{equation}\n",
        "\\mu_{kaons} = \\frac{(n_{kaons}+n_{pions})\\mu_{total}-n_{pions}\\cdot\\mu_{total}}{n_{kaons}}\n",
        "\\end{equation}\n"
      ]
    },
    {
      "cell_type": "code",
      "execution_count": 23,
      "metadata": {
        "colab": {
          "base_uri": "https://localhost:8080/"
        },
        "id": "koNLwPWiPzjI",
        "outputId": "83946799-14be-476f-e606-e0660e22211e"
      },
      "outputs": [
        {
          "data": {
            "text/plain": [
              "3.3353352317517785e-09"
            ]
          },
          "execution_count": 23,
          "metadata": {},
          "output_type": "execute_result"
        }
      ],
      "source": [
        "mu = np.mean(data)\n",
        "mu_pions = 4188\n",
        "pion_tau = 2.6033*10**(-8)\n",
        "byc = mu_pions/pion_tau\n",
        "n_pions = 0.84*len(data)\n",
        "n_kaons = 0.16*len(data)\n",
        "mu_kaons = ((n_kaons+n_pions)*mu - n_pions*mu_pions)/n_kaons\n",
        "mu_kaons/byc"
      ]
    },
    {
      "cell_type": "markdown",
      "metadata": {
        "id": "LIuV1qkf-M1B"
      },
      "source": [
        "# \n"
      ]
    },
    {
      "cell_type": "code",
      "execution_count": 83,
      "metadata": {
        "colab": {
          "base_uri": "https://localhost:8080/"
        },
        "id": "qOwp_dIhZCOV",
        "outputId": "1efda954-e745-49c1-f00e-d702e9d302f4"
      },
      "outputs": [
        {
          "name": "stdout",
          "output_type": "stream",
          "text": [
            "536.564512371853\n",
            "4188\n"
          ]
        }
      ],
      "source": [
        "print(mu_kaons)\n",
        "print(mu_pions)"
      ]
    },
    {
      "cell_type": "code",
      "execution_count": 34,
      "metadata": {
        "colab": {
          "base_uri": "https://localhost:8080/"
        },
        "id": "CdN1EMB-cNwN",
        "outputId": "d5af426b-972a-431b-cf74-1e54ff8accb3"
      },
      "outputs": [
        {
          "name": "stdout",
          "output_type": "stream",
          "text": [
            "2.6033e-08\n",
            "[3.49500609e-09]\n"
          ]
        }
      ],
      "source": [
        "mu_pions = 4188\n",
        "pion_tau = 2.6033*10**(-8)\n",
        "byc = mu_pions/pion_tau\n",
        "mu_kaons = 1/res_neg_log.x\n",
        "kaon_tau = mu_kaons/byc\n",
        "print(pion_tau)\n",
        "print(kaon_tau)\n",
        "\n"
      ]
    },
    {
      "cell_type": "code",
      "execution_count": 118,
      "metadata": {
        "colab": {
          "base_uri": "https://localhost:8080/"
        },
        "id": "AreluOCyjgj5",
        "outputId": "e772197d-f71c-419d-fb68-eed7262926bb"
      },
      "outputs": [
        {
          "name": "stdout",
          "output_type": "stream",
          "text": [
            "0.9999799503363256\n"
          ]
        }
      ],
      "source": [
        "s1 = 562.2512011\n",
        "s2 = 4188\n",
        "t1 = 1.2380*1e-8\n",
        "t2 = 2.6033*1e-8\n",
        "c = 299792458\n",
        "v1 = s1/t1*1/(np.sqrt(1+s1**2/(t1**2*c**2)))\n",
        "v2 = s2/t2*1/(np.sqrt(1+s2**2/(t2**2*c**2)))\n",
        "print(v1/v2)"
      ]
    }
  ],
  "metadata": {
    "colab": {
      "provenance": []
    },
    "kernelspec": {
      "display_name": "Python 3",
      "name": "python3"
    },
    "language_info": {
      "codemirror_mode": {
        "name": "ipython",
        "version": 3
      },
      "file_extension": ".py",
      "mimetype": "text/x-python",
      "name": "python",
      "nbconvert_exporter": "python",
      "pygments_lexer": "ipython3",
      "version": "3.10.9"
    }
  },
  "nbformat": 4,
  "nbformat_minor": 0
}
