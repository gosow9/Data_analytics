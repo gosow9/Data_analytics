{
 "cells": [
  {
   "cell_type": "code",
   "execution_count": 1,
   "metadata": {},
   "outputs": [],
   "source": [
    "import numpy as np\n",
    "from math import sqrt\n",
    "import matplotlib.pyplot as plt\n",
    "import pandas as pd"
   ]
  },
  {
   "cell_type": "code",
   "execution_count": 2,
   "metadata": {},
   "outputs": [],
   "source": [
    "background = np.loadtxt(\"background.txt\")\n",
    "signal = np.loadtxt(\"signal.txt\")"
   ]
  },
  {
   "cell_type": "code",
   "execution_count": 20,
   "metadata": {},
   "outputs": [
    {
     "name": "stdout",
     "output_type": "stream",
     "text": [
      "[ 1143.35565056  1164.7431085   3249.63259108  3272.70276118\n",
      " 94813.227569    3506.062678    3589.58343959]\n"
     ]
    }
   ],
   "source": [
    "merged = np.concatenate((signal, background))\n",
    "rows, cols = signal.shape\n",
    "n = rows\n",
    "mu = np.mean(merged)\n",
    "sigma = np.std(merged)\n",
    "mean_s = np.mean(signal, axis=0)\n",
    "mean_b = np.mean(background, axis=0)\n",
    "fisher = n*((mean_s-mu)**2+(mean_b-mu)**2)/sigma**2\n",
    "print(fisher)\n"
   ]
  },
  {
   "cell_type": "code",
   "execution_count": 27,
   "metadata": {},
   "outputs": [
    {
     "name": "stdout",
     "output_type": "stream",
     "text": [
      "(20000, 7)\n",
      "(10000, 7)\n",
      "[2.14802844e+02 2.97257569e+02 1.05432714e+00 1.58281937e+01\n",
      " 4.47392260e+03 1.44019512e+01 3.04446727e-01]\n"
     ]
    }
   ],
   "source": [
    "print(merged.shape)\n",
    "print(signal.shape)\n",
    "print(background[0,:])"
   ]
  },
  {
   "cell_type": "code",
   "execution_count": 60,
   "metadata": {},
   "outputs": [
    {
     "name": "stdout",
     "output_type": "stream",
     "text": [
      "[ 1143.35565056  1164.7431085   3249.63259108  3272.70276118\n",
      " 94813.227569    3506.062678    3589.58343959]\n",
      "[4 6 5 3 2 1 0]\n"
     ]
    },
    {
     "data": {
      "text/plain": [
       "array([94813.227569  ,  3589.58343959,  3506.062678  ,  3272.70276118,\n",
       "        3249.63259108,  1164.7431085 ,  1143.35565056])"
      ]
     },
     "execution_count": 60,
     "metadata": {},
     "output_type": "execute_result"
    }
   ],
   "source": [
    "index = np.flip(fisher.argsort(axis=0))\n",
    "print(fisher)\n",
    "print(index)\n",
    "np.take_along_axis(fisher, index, axis=0) \n"
   ]
  },
  {
   "cell_type": "code",
   "execution_count": 39,
   "metadata": {},
   "outputs": [
    {
     "data": {
      "text/plain": [
       "array([4, 6, 5, 3, 2, 1, 0])"
      ]
     },
     "execution_count": 39,
     "metadata": {},
     "output_type": "execute_result"
    }
   ],
   "source": [
    "np.flip(index)"
   ]
  },
  {
   "cell_type": "code",
   "execution_count": 90,
   "metadata": {},
   "outputs": [],
   "source": [
    "index2 = np.repeat(np.atleast_2d(index),10000, axis=0)\n",
    "ranked_signal = np.take_along_axis(signal, index2, axis=1)[0]\n",
    "ranked_background = np.take_along_axis(background, index2, axis=1)[0]"
   ]
  },
  {
   "cell_type": "code",
   "execution_count": 89,
   "metadata": {},
   "outputs": [
    {
     "name": "stdout",
     "output_type": "stream",
     "text": [
      "[2.14802844e+02 2.97257569e+02 1.05432714e+00 1.58281937e+01\n",
      " 4.47392260e+03 1.44019512e+01 3.04446727e-01]\n",
      "[4.47392260e+03 3.04446727e-01 1.44019512e+01 1.58281937e+01\n",
      " 1.05432714e+00 2.97257569e+02 2.14802844e+02]\n"
     ]
    },
    {
     "data": {
      "text/plain": [
       "array([4.47392260e+03, 3.04446727e-01, 1.44019512e+01, 1.58281937e+01,\n",
       "       1.05432714e+00, 2.97257569e+02, 2.14802844e+02])"
      ]
     },
     "execution_count": 89,
     "metadata": {},
     "output_type": "execute_result"
    }
   ],
   "source": [
    "print(background[0,:])\n",
    "print(np.take_along_axis(background[0,:], index, axis=0))\n",
    "np.take_along_axis(background, index2, axis=1)[0]"
   ]
  },
  {
   "cell_type": "code",
   "execution_count": 47,
   "metadata": {},
   "outputs": [
    {
     "ename": "ValueError",
     "evalue": "`indices` and `arr` must have the same number of dimensions",
     "output_type": "error",
     "traceback": [
      "\u001b[0;31m---------------------------------------------------------------------------\u001b[0m",
      "\u001b[0;31mValueError\u001b[0m                                Traceback (most recent call last)",
      "\u001b[1;32mUntitled-1.ipynb Cell 8\u001b[0m in \u001b[0;36m<cell line: 1>\u001b[0;34m()\u001b[0m\n\u001b[0;32m----> <a href='vscode-notebook-cell:Untitled-1.ipynb?jupyter-notebook#X12sdW50aXRsZWQ%3D?line=0'>1</a>\u001b[0m ranked_signal \u001b[39m=\u001b[39m np\u001b[39m.\u001b[39;49mtake_along_axis(signal, index,axis\u001b[39m=\u001b[39;49m\u001b[39m0\u001b[39;49m)\n",
      "File \u001b[0;32m<__array_function__ internals>:180\u001b[0m, in \u001b[0;36mtake_along_axis\u001b[0;34m(*args, **kwargs)\u001b[0m\n",
      "File \u001b[0;32m~/anaconda3/envs/ml/lib/python3.9/site-packages/numpy/lib/shape_base.py:170\u001b[0m, in \u001b[0;36mtake_along_axis\u001b[0;34m(arr, indices, axis)\u001b[0m\n\u001b[1;32m    167\u001b[0m     arr_shape \u001b[39m=\u001b[39m arr\u001b[39m.\u001b[39mshape\n\u001b[1;32m    169\u001b[0m \u001b[39m# use the fancy index\u001b[39;00m\n\u001b[0;32m--> 170\u001b[0m \u001b[39mreturn\u001b[39;00m arr[_make_along_axis_idx(arr_shape, indices, axis)]\n",
      "File \u001b[0;32m~/anaconda3/envs/ml/lib/python3.9/site-packages/numpy/lib/shape_base.py:34\u001b[0m, in \u001b[0;36m_make_along_axis_idx\u001b[0;34m(arr_shape, indices, axis)\u001b[0m\n\u001b[1;32m     32\u001b[0m     \u001b[39mraise\u001b[39;00m \u001b[39mIndexError\u001b[39;00m(\u001b[39m'\u001b[39m\u001b[39m`indices` must be an integer array\u001b[39m\u001b[39m'\u001b[39m)\n\u001b[1;32m     33\u001b[0m \u001b[39mif\u001b[39;00m \u001b[39mlen\u001b[39m(arr_shape) \u001b[39m!=\u001b[39m indices\u001b[39m.\u001b[39mndim:\n\u001b[0;32m---> 34\u001b[0m     \u001b[39mraise\u001b[39;00m \u001b[39mValueError\u001b[39;00m(\n\u001b[1;32m     35\u001b[0m         \u001b[39m\"\u001b[39m\u001b[39m`indices` and `arr` must have the same number of dimensions\u001b[39m\u001b[39m\"\u001b[39m)\n\u001b[1;32m     36\u001b[0m shape_ones \u001b[39m=\u001b[39m (\u001b[39m1\u001b[39m,) \u001b[39m*\u001b[39m indices\u001b[39m.\u001b[39mndim\n\u001b[1;32m     37\u001b[0m dest_dims \u001b[39m=\u001b[39m \u001b[39mlist\u001b[39m(\u001b[39mrange\u001b[39m(axis)) \u001b[39m+\u001b[39m [\u001b[39mNone\u001b[39;00m] \u001b[39m+\u001b[39m \u001b[39mlist\u001b[39m(\u001b[39mrange\u001b[39m(axis\u001b[39m+\u001b[39m\u001b[39m1\u001b[39m, indices\u001b[39m.\u001b[39mndim))\n",
      "\u001b[0;31mValueError\u001b[0m: `indices` and `arr` must have the same number of dimensions"
     ]
    }
   ],
   "source": [
    "ranked_signal = np.take_along_axis(signal, index, axis=0)\n"
   ]
  },
  {
   "cell_type": "markdown",
   "metadata": {},
   "source": []
  },
  {
   "cell_type": "code",
   "execution_count": 41,
   "metadata": {},
   "outputs": [
    {
     "data": {
      "text/plain": [
       "array(['f4', 'f6', 'f5', 'f3', 'f2', 'f1', 'f0'], dtype='<U2')"
      ]
     },
     "execution_count": 41,
     "metadata": {},
     "output_type": "execute_result"
    }
   ],
   "source": [
    "n = [\"f0\", \"f1\", \"f2\", \"f3\", \"f4\", \"f5\", \"f6\"]\n",
    "nm = np.asarray(n)\n",
    "np.take_along_axis(nm, index, axis=0)"
   ]
  }
 ],
 "metadata": {
  "kernelspec": {
   "display_name": "ml",
   "language": "python",
   "name": "python3"
  },
  "language_info": {
   "codemirror_mode": {
    "name": "ipython",
    "version": 3
   },
   "file_extension": ".py",
   "mimetype": "text/x-python",
   "name": "python",
   "nbconvert_exporter": "python",
   "pygments_lexer": "ipython3",
   "version": "3.9.12"
  },
  "orig_nbformat": 4,
  "vscode": {
   "interpreter": {
    "hash": "0cec5dad7abc2a19b6fc1e0223b3c1fb44b83144b0e8a289f1cf16bee4993aa8"
   }
  }
 },
 "nbformat": 4,
 "nbformat_minor": 2
}
