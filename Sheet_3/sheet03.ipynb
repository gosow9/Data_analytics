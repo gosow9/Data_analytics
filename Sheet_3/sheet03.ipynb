{
 "cells": [
  {
   "cell_type": "code",
   "execution_count": 79,
   "metadata": {},
   "outputs": [],
   "source": [
    "import numpy as np\n",
    "from math import sqrt\n",
    "import matplotlib.pyplot as plt\n",
    "import pandas as pd\n",
    "from scipy.optimize import minimize\n",
    "from scipy.optimize import minimize\n",
    "from sklearn.tree import DecisionTreeClassifier\n",
    "from sklearn.ensemble import AdaBoostClassifier\n",
    "from sklearn.metrics import classification_report, roc_auc_score\n",
    "from sklearn.model_selection import train_test_split"
   ]
  },
  {
   "cell_type": "code",
   "execution_count": 84,
   "metadata": {},
   "outputs": [],
   "source": [
    "columns = [\"TotalPT\", \"VertexChisq\", \"Isolation\"]\n",
    "signal = np.loadtxt(\"signal.txt\")\n",
    "background = np.loadtxt(\"background.txt\")\n",
    "signal = signal[:,4:]\n",
    "background = background[:,4:]"
   ]
  },
  {
   "cell_type": "code",
   "execution_count": 85,
   "metadata": {},
   "outputs": [],
   "source": [
    "#Combine the signal and background into one dataset\n",
    "X = np.concatenate((signal, background))\n",
    "#Add a label dataset y, which tells the BDT what to aim for (i.e. BDT value should be 1 for signal and 0 for background).\n",
    "y = np.concatenate((np.ones(signal.shape[0]),\n",
    "                    np.zeros(background.shape[0])))"
   ]
  },
  {
   "cell_type": "code",
   "execution_count": 93,
   "metadata": {},
   "outputs": [
    {
     "name": "stdout",
     "output_type": "stream",
     "text": [
      "0.8218\n",
      "0.8260666666666666\n",
      "           TotalPT  VertexChisq  Isolation  BDT val  Label\n",
      "0      8358.779303    13.252397   0.133740      1.0    0.0\n",
      "1      2399.897437     6.739473   0.346507      0.0    0.0\n",
      "2      3374.310418     4.773314   0.149434      0.0    1.0\n",
      "3      8151.947505     2.859302  -0.224987      1.0    1.0\n",
      "4      9374.437120    11.706422   0.338918      1.0    1.0\n",
      "...            ...          ...        ...      ...    ...\n",
      "19995  6333.991250     4.142610  -0.081129      1.0    0.0\n",
      "19996  7298.204201     2.130227   0.220424      1.0    1.0\n",
      "19997  3593.262620     6.549663   0.094788      0.0    0.0\n",
      "19998  5016.835630    24.192815  -0.467886      0.0    1.0\n",
      "19999  3136.342096     5.396029   0.043111      0.0    0.0\n",
      "\n",
      "[20000 rows x 5 columns]\n"
     ]
    }
   ],
   "source": [
    "\n",
    "X_train,X_test, y_train,y_test = train_test_split(X, y, test_size=0.25, random_state=492)\n",
    "\n",
    "dt = DecisionTreeClassifier(max_depth=4, min_samples_leaf=int(0.1*len(X)))\n",
    "bdt = AdaBoostClassifier(dt,\n",
    "                        algorithm='SAMME',\n",
    "                        n_estimators=100,\n",
    "                        learning_rate=0.1)\n",
    "\n",
    "#Optimise the parameters of the weights using the training sample\n",
    "bdt.fit(X_train, y_train)\n",
    "\n",
    "#Test the bdt parameters on the test sample\n",
    "y_predicted = bdt.predict(X_test)\n",
    "y_predicted_2 = bdt.predict(X_train)\n",
    "#This can be used to add the BDT and label columns to your dataset.\n",
    "df_1 = pd.DataFrame(np.hstack((X_test, y_predicted.reshape(y_predicted.shape[0], -1),y_test.reshape(y_test.shape[0],-1))),\n",
    "                columns=columns+['BDT val','Label'])\n",
    "df_2 = pd.DataFrame(np.hstack((X_train, y_predicted_2.reshape(y_predicted_2.shape[0], -1),y_train.reshape(y_train.shape[0],-1))),\n",
    "                columns=columns+['BDT val','Label'])\n",
    "\n",
    "df = pd.concat([df_2,df_1],axis=0,ignore_index=True)\n",
    "print(bdt.score(X_test, y_test))\n",
    "print(bdt.score(X_train, y_train))\n",
    "print(df)\n"
   ]
  },
  {
   "cell_type": "code",
   "execution_count": 96,
   "metadata": {},
   "outputs": [
    {
     "name": "stdout",
     "output_type": "stream",
     "text": [
      "8362\n",
      "0.825\n"
     ]
    }
   ],
   "source": [
    "tp = len(df[(df[\"BDT val\"]==1.0)&(df[\"Label\"]==1.0)])\n",
    "tn = len(df[(df[\"BDT val\"]==0.0)&(df[\"Label\"]==0.0)])\n",
    "fp = len(df[(df[\"BDT val\"]==0.0)&(df[\"Label\"]==1.0)])\n",
    "fn = len(df[(df[\"BDT val\"]==1.0)&(df[\"Label\"]==0.0)])\n",
    "\n",
    "metric = (tp+tn)/(tp+tn+fp+fn)\n",
    "print(metric)"
   ]
  },
  {
   "cell_type": "code",
   "execution_count": 2,
   "metadata": {},
   "outputs": [],
   "source": [
    "background = np.loadtxt(\"background.txt\")\n",
    "signal = np.loadtxt(\"signal.txt\")"
   ]
  },
  {
   "cell_type": "code",
   "execution_count": 20,
   "metadata": {},
   "outputs": [
    {
     "name": "stdout",
     "output_type": "stream",
     "text": [
      "[ 1143.35565056  1164.7431085   3249.63259108  3272.70276118\n",
      " 94813.227569    3506.062678    3589.58343959]\n"
     ]
    }
   ],
   "source": [
    "merged = np.concatenate((signal, background))\n",
    "rows, cols = signal.shape\n",
    "n = rows\n",
    "mu = np.mean(merged)\n",
    "sigma = np.std(merged)\n",
    "mean_s = np.mean(signal, axis=0)\n",
    "mean_b = np.mean(background, axis=0)\n",
    "fisher = n*((mean_s-mu)**2+(mean_b-mu)**2)/sigma**2\n",
    "print(fisher)\n"
   ]
  },
  {
   "cell_type": "code",
   "execution_count": 27,
   "metadata": {},
   "outputs": [
    {
     "name": "stdout",
     "output_type": "stream",
     "text": [
      "(20000, 7)\n",
      "(10000, 7)\n",
      "[2.14802844e+02 2.97257569e+02 1.05432714e+00 1.58281937e+01\n",
      " 4.47392260e+03 1.44019512e+01 3.04446727e-01]\n"
     ]
    }
   ],
   "source": [
    "print(merged.shape)\n",
    "print(signal.shape)\n",
    "print(background[0,:])"
   ]
  },
  {
   "cell_type": "code",
   "execution_count": 60,
   "metadata": {},
   "outputs": [
    {
     "name": "stdout",
     "output_type": "stream",
     "text": [
      "[ 1143.35565056  1164.7431085   3249.63259108  3272.70276118\n",
      " 94813.227569    3506.062678    3589.58343959]\n",
      "[4 6 5 3 2 1 0]\n"
     ]
    },
    {
     "data": {
      "text/plain": [
       "array([94813.227569  ,  3589.58343959,  3506.062678  ,  3272.70276118,\n",
       "        3249.63259108,  1164.7431085 ,  1143.35565056])"
      ]
     },
     "execution_count": 60,
     "metadata": {},
     "output_type": "execute_result"
    }
   ],
   "source": [
    "index = np.flip(fisher.argsort(axis=0))\n",
    "print(fisher)\n",
    "print(index)\n",
    "np.take_along_axis(fisher, index, axis=0) \n"
   ]
  },
  {
   "cell_type": "code",
   "execution_count": 39,
   "metadata": {},
   "outputs": [
    {
     "data": {
      "text/plain": [
       "array([4, 6, 5, 3, 2, 1, 0])"
      ]
     },
     "execution_count": 39,
     "metadata": {},
     "output_type": "execute_result"
    }
   ],
   "source": [
    "np.flip(index)"
   ]
  },
  {
   "cell_type": "code",
   "execution_count": 90,
   "metadata": {},
   "outputs": [],
   "source": [
    "index2 = np.repeat(np.atleast_2d(index),10000, axis=0)\n",
    "ranked_signal = np.take_along_axis(signal, index2, axis=1)[0]\n",
    "ranked_background = np.take_along_axis(background, index2, axis=1)[0]"
   ]
  },
  {
   "cell_type": "code",
   "execution_count": 89,
   "metadata": {},
   "outputs": [
    {
     "name": "stdout",
     "output_type": "stream",
     "text": [
      "[2.14802844e+02 2.97257569e+02 1.05432714e+00 1.58281937e+01\n",
      " 4.47392260e+03 1.44019512e+01 3.04446727e-01]\n",
      "[4.47392260e+03 3.04446727e-01 1.44019512e+01 1.58281937e+01\n",
      " 1.05432714e+00 2.97257569e+02 2.14802844e+02]\n"
     ]
    },
    {
     "data": {
      "text/plain": [
       "array([4.47392260e+03, 3.04446727e-01, 1.44019512e+01, 1.58281937e+01,\n",
       "       1.05432714e+00, 2.97257569e+02, 2.14802844e+02])"
      ]
     },
     "execution_count": 89,
     "metadata": {},
     "output_type": "execute_result"
    }
   ],
   "source": [
    "print(background[0,:])\n",
    "print(np.take_along_axis(background[0,:], index, axis=0))\n",
    "np.take_along_axis(background, index2, axis=1)[0]"
   ]
  },
  {
   "cell_type": "code",
   "execution_count": 2,
   "metadata": {},
   "outputs": [],
   "source": [
    "signal_df = pd.read_csv('signal.txt', sep=\" \")\n",
    "columns = [\"PT1\", \"PT2\", \"P1\", \"P2\", \"TotalPT\", \"VertexChisq\", \"Isolation\"]\n",
    "signal_df.columns = columns\n",
    "background_df = pd.read_csv('background.txt', sep=\" \")\n",
    "background_df.columns = columns\n",
    "\n"
   ]
  },
  {
   "cell_type": "code",
   "execution_count": 12,
   "metadata": {},
   "outputs": [
    {
     "data": {
      "text/html": [
       "<div>\n",
       "<style scoped>\n",
       "    .dataframe tbody tr th:only-of-type {\n",
       "        vertical-align: middle;\n",
       "    }\n",
       "\n",
       "    .dataframe tbody tr th {\n",
       "        vertical-align: top;\n",
       "    }\n",
       "\n",
       "    .dataframe thead th {\n",
       "        text-align: right;\n",
       "    }\n",
       "</style>\n",
       "<table border=\"1\" class=\"dataframe\">\n",
       "  <thead>\n",
       "    <tr style=\"text-align: right;\">\n",
       "      <th></th>\n",
       "      <th>TotalPT</th>\n",
       "      <th>Isolation</th>\n",
       "      <th>VertexChisq</th>\n",
       "    </tr>\n",
       "  </thead>\n",
       "  <tbody>\n",
       "    <tr>\n",
       "      <th>0</th>\n",
       "      <td>4473.922598</td>\n",
       "      <td>0.409195</td>\n",
       "      <td>6.524695</td>\n",
       "    </tr>\n",
       "    <tr>\n",
       "      <th>1</th>\n",
       "      <td>4425.499687</td>\n",
       "      <td>-0.074212</td>\n",
       "      <td>10.217255</td>\n",
       "    </tr>\n",
       "    <tr>\n",
       "      <th>2</th>\n",
       "      <td>4425.499687</td>\n",
       "      <td>-0.074212</td>\n",
       "      <td>10.478341</td>\n",
       "    </tr>\n",
       "    <tr>\n",
       "      <th>3</th>\n",
       "      <td>2526.804360</td>\n",
       "      <td>-0.316457</td>\n",
       "      <td>8.668981</td>\n",
       "    </tr>\n",
       "    <tr>\n",
       "      <th>4</th>\n",
       "      <td>2499.779164</td>\n",
       "      <td>0.025940</td>\n",
       "      <td>19.821034</td>\n",
       "    </tr>\n",
       "  </tbody>\n",
       "</table>\n",
       "</div>"
      ],
      "text/plain": [
       "       TotalPT  Isolation  VertexChisq\n",
       "0  4473.922598   0.409195     6.524695\n",
       "1  4425.499687  -0.074212    10.217255\n",
       "2  4425.499687  -0.074212    10.478341\n",
       "3  2526.804360  -0.316457     8.668981\n",
       "4  2499.779164   0.025940    19.821034"
      ]
     },
     "execution_count": 12,
     "metadata": {},
     "output_type": "execute_result"
    }
   ],
   "source": [
    "best_three = ['TotalPT','Isolation', 'VertexChisq']\n",
    "sig = signal_df[best_three]\n",
    "back = background_df[best_three]\n",
    "sig.head()\n",
    "back.head()"
   ]
  },
  {
   "cell_type": "code",
   "execution_count": 57,
   "metadata": {},
   "outputs": [
    {
     "name": "stdout",
     "output_type": "stream",
     "text": [
      "[35338.679704678325, 0.6209467053413391, 29.997858283815383]\n",
      "[2010.2144273932568, -2.0, 0.03096386937587567]\n"
     ]
    },
    {
     "data": {
      "text/plain": [
       "((2010.2144273932568, 35338.679704678325),\n",
       " (2010.2144273932568, 35338.679704678325),\n",
       " (-2.0, 0.6209467053413391),\n",
       " (-2.0, 0.6209467053413391),\n",
       " (0.03096386937587567, 29.997858283815383),\n",
       " (0.03096386937587567, 29.997858283815383))"
      ]
     },
     "execution_count": 57,
     "metadata": {},
     "output_type": "execute_result"
    }
   ],
   "source": [
    "back_max = [back[i].max() for i in back]\n",
    "back_min = [back[i].min() for i in back]\n",
    "sig_max = [sig[i].max() for i in sig]\n",
    "sig_min = [sig[i].min() for i in sig]\n",
    "\n",
    "\n",
    "mix_max = [max(els) for els in zip(back_max, sig_max)]\n",
    "mix_min = [min(els) for els in zip(back_min, sig_min)]\n",
    "d_a = (mix_min[0], mix_max[0])\n",
    "d_b = d_a\n",
    "d_c = (mix_min[1], mix_max[1])\n",
    "d_d = d_c\n",
    "d_e = (mix_min[2], mix_max[2])\n",
    "d_f = d_e\n",
    "bnd = (d_a, d_b, d_c, d_d, d_e, d_f)\n",
    "print(mix_max)\n",
    "print(mix_min)\n",
    "bnd\n"
   ]
  },
  {
   "cell_type": "code",
   "execution_count": 67,
   "metadata": {},
   "outputs": [
    {
     "name": "stdout",
     "output_type": "stream",
     "text": [
      "       message: Optimization terminated successfully.\n",
      "       success: True\n",
      "        status: 0\n",
      "           fun: 0.26032603260326037\n",
      "             x: [ 2.925e+03  3.510e+04 -1.924e+00  6.208e-01  3.805e-02\n",
      "                  9.108e+00]\n",
      "           nit: 85\n",
      "          nfev: 303\n",
      " final_simplex: (array([[ 2.925e+03,  3.510e+04, ...,  3.805e-02,\n",
      "                         9.108e+00],\n",
      "                       [ 2.925e+03,  3.510e+04, ...,  3.805e-02,\n",
      "                         9.108e+00],\n",
      "                       ...,\n",
      "                       [ 2.925e+03,  3.510e+04, ...,  3.805e-02,\n",
      "                         9.108e+00],\n",
      "                       [ 2.925e+03,  3.510e+04, ...,  3.805e-02,\n",
      "                         9.108e+00]]), array([ 2.603e-01,  2.603e-01,  2.603e-01,  2.603e-01,\n",
      "                        2.603e-01,  2.603e-01,  2.603e-01]))\n",
      "[ 2.92543394e+03  3.50970451e+04 -1.92431210e+00  6.20846688e-01\n",
      "  3.80454838e-02  9.10786453e+00]\n"
     ]
    }
   ],
   "source": [
    "def minimize_metric(vals):\n",
    "    a, b, c, d, e, f = vals\n",
    "    selection_cut = '@a < TotalPT < @b and @c < Isolation < @d and @e < VertexChisq < @f'    \n",
    "    signal_select = sig.query(selection_cut)\n",
    "    background_select = back.query(selection_cut)\n",
    "    signal_efficiency = len(signal_select)*1.0/len(sig)\n",
    "    background_efficiency = len(background_select)*1.0/len(back)\n",
    "    TP = len(sig)*signal_efficiency\n",
    "    FP = len(sig)*(1-signal_efficiency)\n",
    "    TN = len(back)*(1-background_efficiency)\n",
    "    FN = len(back)*background_efficiency\n",
    "\n",
    "    return 1 - (TP+TN)/(TP+FP+TN+FN)\n",
    "\n",
    "bnds = ((0, None), (0, None))\n",
    "\n",
    "x0 = [2012, 35000, -1.9, 0.62, 0.031, 29]\n",
    "res = minimize(minimize_metric, x0, method='nelder-mead', bounds=bnd, tol=1e-6)\n",
    "print(res)  \n",
    "print(res.x)          \n"
   ]
  },
  {
   "cell_type": "code",
   "execution_count": 4,
   "metadata": {},
   "outputs": [
    {
     "name": "stdout",
     "output_type": "stream",
     "text": [
      "Inital metric value is  0.5\n"
     ]
    }
   ],
   "source": [
    "metric_init = len(signal_df)/(len(background_df)+len(signal_df))\n",
    "print('Inital metric value is ',metric_init)"
   ]
  },
  {
   "cell_type": "code",
   "execution_count": null,
   "metadata": {},
   "outputs": [],
   "source": []
  },
  {
   "cell_type": "code",
   "execution_count": null,
   "metadata": {},
   "outputs": [],
   "source": []
  },
  {
   "cell_type": "code",
   "execution_count": 8,
   "metadata": {},
   "outputs": [
    {
     "name": "stdout",
     "output_type": "stream",
     "text": [
      "              PT1          PT2          P1         P2       TotalPT  \\\n",
      "4     1325.279348  1454.354535   30.972987  53.188473  13644.962732   \n",
      "7      389.882677   200.058017    2.375754   0.104484   5613.125753   \n",
      "8      171.023727   259.370234    9.540492   4.327980   4363.892633   \n",
      "14     204.805815   154.881536   14.749565  25.422720   2435.402595   \n",
      "15    1130.544897   562.524245  153.406243   0.175657  13318.206049   \n",
      "...           ...          ...         ...        ...           ...   \n",
      "9985   199.831137   335.838348   14.506075  24.003985   3821.907628   \n",
      "9987   308.305432   325.982101   22.390938   4.978476   3899.572619   \n",
      "9988   414.308447   233.456080   88.341328   6.778529   6151.286139   \n",
      "9991   529.287438   241.172671   18.227750  19.092306   4318.134585   \n",
      "9993  1125.821133   366.215193   85.367884  23.974989   8955.500707   \n",
      "\n",
      "      VertexChisq  Isolation  \n",
      "4        1.455509   0.261870  \n",
      "7        1.928608  -0.100082  \n",
      "8        1.518382   0.038937  \n",
      "14       0.106695  -0.128571  \n",
      "15       3.572086   0.519323  \n",
      "...           ...        ...  \n",
      "9985     0.552977   0.500505  \n",
      "9987     0.924494  -0.524776  \n",
      "9988     2.641630   0.115495  \n",
      "9991     2.152210   0.555768  \n",
      "9993     2.587818  -2.000000  \n",
      "\n",
      "[4273 rows x 7 columns]\n",
      "signal efficiency is 0.42734273427342734\n",
      "background efficiency is 0.0922092209220922\n"
     ]
    }
   ],
   "source": [
    "selection_cut = 'VertexChisq < 4'\n",
    "\n",
    "#Reduce the dataset using the query command (for arrays can use array.select)\n",
    "signal_select = signal_df.query(selection_cut)\n",
    "background_select = background_df.query(selection_cut)\n",
    "print(signal_select)\n",
    "#Calculate the signal and background efficiency using the ratio of DataFrame sizes\n",
    "signal_efficiency = len(signal_select)*1.0/len(signal_df)\n",
    "background_efficiency = len(background_select)*1.0/len(background_df)\n",
    "\n",
    "print('signal efficiency is',signal_efficiency)\n",
    "print('background efficiency is',background_efficiency)"
   ]
  },
  {
   "cell_type": "code",
   "execution_count": 7,
   "metadata": {},
   "outputs": [
    {
     "name": "stdout",
     "output_type": "stream",
     "text": [
      "Metric after selection is 0.6675667566756676\n"
     ]
    }
   ],
   "source": [
    "TP = len(signal_df)*signal_efficiency\n",
    "FP = len(signal_df)*(1-signal_efficiency)\n",
    "TN = len(background_df)*(1-background_efficiency)\n",
    "FN = len(background_df)*background_efficiency\n",
    "\n",
    "metric = (TP+TN)/(TP+FP+TN+FN)\n",
    "\n",
    "print('Metric after selection is',metric)"
   ]
  }
 ],
 "metadata": {
  "kernelspec": {
   "display_name": "ml",
   "language": "python",
   "name": "python3"
  },
  "language_info": {
   "codemirror_mode": {
    "name": "ipython",
    "version": 3
   },
   "file_extension": ".py",
   "mimetype": "text/x-python",
   "name": "python",
   "nbconvert_exporter": "python",
   "pygments_lexer": "ipython3",
   "version": "3.10.9"
  },
  "orig_nbformat": 4,
  "vscode": {
   "interpreter": {
    "hash": "0cec5dad7abc2a19b6fc1e0223b3c1fb44b83144b0e8a289f1cf16bee4993aa8"
   }
  }
 },
 "nbformat": 4,
 "nbformat_minor": 2
}
